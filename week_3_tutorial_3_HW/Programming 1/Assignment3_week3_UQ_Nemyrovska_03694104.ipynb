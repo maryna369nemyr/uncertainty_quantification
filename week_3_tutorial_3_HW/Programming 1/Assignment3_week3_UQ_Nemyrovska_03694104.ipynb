{
 "cells": [
  {
   "cell_type": "markdown",
   "metadata": {},
   "source": [
    "# Assignment 3\n",
    "\n",
    "Nemyrovska Maryna, 03694104"
   ]
  },
  {
   "cell_type": "markdown",
   "metadata": {},
   "source": [
    "# 1. Intro to Monte Carlo Sampling estimator"
   ]
  },
  {
   "cell_type": "markdown",
   "metadata": {},
   "source": [
    "## 1.1 Assignment"
   ]
  },
  {
   "cell_type": "code",
   "execution_count": 6,
   "metadata": {},
   "outputs": [],
   "source": [
    "import numpy as np\n",
    "#import chaospy\n",
    "import matplotlib.pyplot as plt"
   ]
  },
  {
   "cell_type": "code",
   "execution_count": 7,
   "metadata": {},
   "outputs": [
    {
     "name": "stdout",
     "output_type": "stream",
     "text": [
      "mean:1.64705882\tvar:0.14013841\n"
     ]
    }
   ],
   "source": [
    "# standard implementation\n",
    "grades = np.array([1.3, 1.7, 1.0, 2.0, 1.3, 1.7, 2.0, 2.3, 2.0, 1.7, 1.3, 1.0, 2.0, 1.7, 1.7, 1.3, 2.0])\n",
    "mean, variance = np.mean(grades), np.var(grades)\n",
    "print(\"mean:%.8f\\tvar:%.8f\" %(mean, variance))"
   ]
  },
  {
   "cell_type": "code",
   "execution_count": 8,
   "metadata": {},
   "outputs": [
    {
     "name": "stdout",
     "output_type": "stream",
     "text": [
      "mean:1.64705882\tvar:0.14889706\n"
     ]
    }
   ],
   "source": [
    "# own implementation\n",
    "def mean_var_func(array):\n",
    "    mean = np.sum(array)/ len(array)\n",
    "    var = np.sum(np.power(array - mean, 2))/(len(array) -1.0)\n",
    "    print(\"mean:%.8f\\tvar:%.8f\" %(mean, var))\n",
    "    return(mean, var)\n",
    "my_mean, my_var = mean_var_func(grades)\n",
    "    "
   ]
  },
  {
   "cell_type": "markdown",
   "metadata": {},
   "source": [
    "### _*Report 1.1:*_\n",
    "We can observe that the **_mean_** of both implementations are absolutely identical, while the **_variance_**, that was implemented as a separate function, has a worse value than the one that ``np.var()`` gives. It can be caused by a fact, that in the own implementation the error can be raised after we put mean with a lot of numbers after comma into the power and so on, meanwhile in ``np.var()`` they took care of such problems."
   ]
  },
  {
   "cell_type": "markdown",
   "metadata": {},
   "source": [
    "# 2 . Monte Carlo Integration\n",
    "## Assignment 2.1 and Assignment 2.2"
   ]
  },
  {
   "cell_type": "code",
   "execution_count": 9,
   "metadata": {},
   "outputs": [],
   "source": [
    "import matplotlib.pyplot as plt\n",
    "\n",
    "#np.random.seed(None)\n",
    "np.random.seed(120)\n",
    "\n",
    "def MCSampling(a, b, draw_directly =True):\n",
    "    \"\"\"The function takes the interval (a,b) of integration.\n",
    "    Draw_directly variable is responsible for for either direct drawing or \n",
    "    linear transformation of the uniform random variable (as in Assignment 2.2)\"\"\"\n",
    "    # declare function to integrate via Monte Carlo sampling\n",
    "    func = lambda x: np.sin(x)\n",
    "\n",
    "    # declare vector with number of samples\n",
    "    N = [10, 100, 1000, 10000, 100000, 1000000, 10000000, 100000000]\n",
    "\n",
    "    I_hat       = np.zeros(len(N)) #Approximate Monte Carlo integral result\n",
    "    I           = np.cos(a) - np.cos(b) # TODO: Put the exact integral result here\n",
    "    est_std_dev = np.zeros(len(N)) #Monte Carlo standard error\n",
    "    rms = np.zeros(len(N)) #Exact error\n",
    "\n",
    "    err_squared =  np.zeros(len(N))\n",
    "\n",
    "    # TODO: for each N, perform Monte Carlo integration, compute I_hat, est_std_dev and absolute error\n",
    "\n",
    "\n",
    "    for i, n in enumerate(N):\n",
    "        if(draw_directly):\n",
    "            points = np.random.uniform(a, b, N[i])\n",
    "        else:\n",
    "            points = (b-a) * np.random.uniform(0, 1, N[i]) + a\n",
    "        I_hat[i] = np.sum(func(points))/ N[i] * (b - a) \n",
    "        #When we have the Ef(x) = integral f(x) p(x) dx, where p(x) = 1/(b-a) //uniform random variable cdf\n",
    "        err_squared[i] = np.sum(np.power((func(points) - I_hat[i]),2)) / (N[i] - 1)\n",
    "\n",
    "    est_std_dev = np.sqrt(err_squared/N)\n",
    "\n",
    "    rms = np.abs(I - I_hat)\n",
    "\n",
    "    plt.loglog(N, est_std_dev, 'gx', label='standard_error')\n",
    "    plt.loglog(N, rms, 'r*', label='exact_error')\n",
    "    plt.legend(loc='best', fontsize=8)\n",
    "    plt.ylabel('Error values')\n",
    "    plt.xlabel('Number of samples (loglog)')\n",
    "    plt.show()\n",
    "    # TODO: plot results\n",
    "\n",
    "    print(\"Integral:\",I,\",\\nAppr. integrals:\", I_hat)\n",
    "    print(\"Exact error:\\n\", rms )\n",
    "    print(\"Standard error:\\n\",  est_std_dev)"
   ]
  },
  {
   "cell_type": "code",
   "execution_count": 10,
   "metadata": {},
   "outputs": [
    {
     "data": {
      "image/png": "[encoded data removed]",
      "text/plain": [
       "<Figure size 432x288 with 1 Axes>"
      ]
     },
     "metadata": {},
     "output_type": "display_data"
    },
    {
     "name": "stdout",
     "output_type": "stream",
     "text": [
      "Integral: 0.45969769413186023 ,\n",
      "Appr. integrals: [0.57656453 0.43163975 0.47423061 0.4590138  0.46002396 0.45970862\n",
      " 0.45968024 0.45968565]\n",
      "Exact error:\n",
      " [1.16866837e-01 2.80579460e-02 1.45329121e-02 6.83890939e-04\n",
      " 3.26267593e-04 1.09296737e-05 1.74572179e-05 1.20478899e-05]\n",
      "Standard error:\n",
      " [6.10791451e-02 2.56442053e-02 7.67984299e-03 2.49243010e-03\n",
      " 7.82274122e-04 2.47595813e-04 7.83230157e-05 2.47696047e-05]\n"
     ]
    }
   ],
   "source": [
    "MCSampling(0, 1, True)#drawn directly from U(0,1)"
   ]
  },
  {
   "cell_type": "markdown",
   "metadata": {},
   "source": [
    "### _*Report 2.1:*_\n",
    "Both standard error and exact error decreases with the number of samples increasing. The standard error also repeats the pattern and the path of the exact error."
   ]
  },
  {
   "cell_type": "code",
   "execution_count": 11,
   "metadata": {},
   "outputs": [
    {
     "data": {
      "image/png": "[encoded data removed]",
      "text/plain": [
       "<Figure size 432x288 with 1 Axes>"
      ]
     },
     "metadata": {},
     "output_type": "display_data"
    },
    {
     "name": "stdout",
     "output_type": "stream",
     "text": [
      "Integral: 0.23749678431646953 ,\n",
      "Appr. integrals: [-0.17870187  0.26071329  0.14475764  0.23812455  0.23773434  0.23699097\n",
      "  0.23705     0.23751059]\n",
      "Exact error:\n",
      " [4.16198658e-01 2.32165103e-02 9.27391401e-02 6.27765947e-04\n",
      " 2.37557707e-04 5.05810361e-04 4.46779913e-04 1.38051421e-05]\n",
      "Standard error:\n",
      " [1.06927228e-01 5.74092929e-02 1.68032604e-02 5.29748927e-03\n",
      " 1.68064599e-03 5.31081688e-04 1.67813360e-04 5.30766309e-05]\n"
     ]
    }
   ],
   "source": [
    "MCSampling(2, 4, True) #drawn directly from U(2,4)"
   ]
  },
  {
   "cell_type": "code",
   "execution_count": 12,
   "metadata": {},
   "outputs": [
    {
     "data": {
      "image/png": "[encoded data removed]",
      "text/plain": [
       "<Figure size 432x288 with 1 Axes>"
      ]
     },
     "metadata": {},
     "output_type": "display_data"
    },
    {
     "name": "stdout",
     "output_type": "stream",
     "text": [
      "Integral: 0.23749678431646953 ,\n",
      "Appr. integrals: [0.96656991 0.32650279 0.19454917 0.25208822 0.2404342  0.23681409\n",
      " 0.23745591 0.23762888]\n",
      "Exact error:\n",
      " [7.29073127e-01 8.90060050e-02 4.29476150e-02 1.45914366e-02\n",
      " 2.93741311e-03 6.82692431e-04 4.08750966e-05 1.32093121e-04]\n",
      "Standard error:\n",
      " [2.00659304e-01 4.91682359e-02 1.66874544e-02 5.33350497e-03\n",
      " 1.67855355e-03 5.30816833e-04 1.67848137e-04 5.30797863e-05]\n"
     ]
    }
   ],
   "source": [
    "MCSampling(2, 4, False) #including linear transformation"
   ]
  },
  {
   "cell_type": "markdown",
   "metadata": {},
   "source": [
    "### _*Report 2.2:*_\n",
    "Both standard error and exact error decreases with the number of samples increasing. The standard error also repeats the pattern and the path of the exact error.\n",
    "Independently of the fact, that either we are drawing r.v. directly from $U(2,4)$ or firstly from $U(0,1)$ and then applying the linear transformation $(4-2) \\cdot u_{0,1} + 2$ with the fixed seed, the erased error will remain the same.\n"
   ]
  },
  {
   "cell_type": "markdown",
   "metadata": {},
   "source": [
    "# 3. Monte Carlo Sampling for UQ\n",
    "## Assignment 3.1 "
   ]
  },
  {
   "cell_type": "code",
   "execution_count": 13,
   "metadata": {},
   "outputs": [
    {
     "name": "stdout",
     "output_type": "stream",
     "text": [
      "Generated mean and covariance matrices:\n",
      "N =     10 : -0.925\t1.176\n",
      "\t1.409\t0.874\n",
      "\t0.874\t1.386\n",
      "N =    100 : -0.466\t1.082\n",
      "\t0.952\t0.345\n",
      "\t0.345\t0.997\n",
      "N =   1000 : -0.416\t1.123\n",
      "\t1.016\t0.404\n",
      "\t0.404\t0.976\n",
      "N =  10000 : -0.413\t1.092\n",
      "\t0.983\t0.405\n",
      "\t0.405\t1.011\n",
      "N = 100000 : -0.404\t1.098\n",
      "\t0.999\t0.396\n",
      "\t0.396\t1.001\n"
     ]
    }
   ],
   "source": [
    "# given mean and variance\n",
    "mu_given  = np.array([-0.4, 1.1])\n",
    "V_given   = np.array([[1.0, 0.4], [0.4, 1.0]])\n",
    "\n",
    "# declare vector with number of samples\n",
    "N = [10, 100, 1000, 10000, 100000]#, 1000000, 10000000, 100000000]\n",
    "mu_mc, V_mc = np.zeros((len(N), 2)) , np.zeros(( len(N), 2, 2))\n",
    "\n",
    "est_std_dev_mu_mc, est_std_dev_V_mc = np.zeros((len(N), 2)), np.zeros((len(N), 2, 2)) #Monte Carlo standard error\n",
    "err_squared_mu_mc, err_squared_V_mc =  np.zeros((len(N), 2)) , np.zeros((len(N), 2, 2)) # Monte Carlo squared error\n",
    "\n",
    "\n",
    "np.random.seed(120)\n",
    "for i, n in enumerate(N):\n",
    "    points = np.random.multivariate_normal(mu_given, V_given, N[i])\n",
    "    mu_mc[i] = np.mean(points, axis = 0)\n",
    "    Xi, Xj = (points - mu_mc[i].T).T\n",
    " \n",
    "\n",
    "    V_mc[i][0][0] = np.sum(np.multiply(Xi, Xi))/ (N[i] -1)\n",
    "    V_mc[i][0][1] = np.sum(np.multiply(Xi, Xj))/ (N[i] -1)\n",
    "    V_mc[i][1][0] = np.sum(np.multiply(Xj, Xi))/ (N[i] -1)\n",
    "    V_mc[i][1][1] = np.sum(np.multiply(Xj, Xj))/ (N[i] -1)\n",
    "    \n",
    "    #errors for mean and covariance\n",
    "    err_squared_mu_mc[i] = np.sum(np.power(points - mu_mc[i], 2), axis = 0) / (N[i] - 1)\n",
    "    est_std_dev_mu_mc[i] = np.sqrt(err_squared_mu_mc[i]/N[i])\n",
    "    \n",
    "\n",
    "    # we have less degrees of freedom for the covariance matrix\n",
    "    err_squared_V_mc[i][0][0] = np.sum(np.power(np.multiply(Xi, Xi) - V_mc[i][0][0], 2), axis = 0) / (N[i] - 2) \n",
    "    err_squared_V_mc[i][0][1] = np.sum(np.power(np.multiply(Xi, Xj) - V_mc[i][0][1], 2), axis = 0) / (N[i] - 2) \n",
    "    err_squared_V_mc[i][1][0] = np.sum(np.power(np.multiply(Xj, Xi) - V_mc[i][1][0], 2), axis = 0) / (N[i] - 2) \n",
    "    err_squared_V_mc[i][1][1] = np.sum(np.power(np.multiply(Xj, Xj) - V_mc[i][1][1], 2), axis = 0) / (N[i] - 2) \n",
    "    \n",
    "    est_std_dev_V_mc[i] = np.sqrt(err_squared_V_mc[i]/N[i])\n",
    "    \n",
    "\n",
    "rms_mu = np.abs(mu_mc - mu_given)\n",
    "rms_V = np.abs(V_mc - V_given)\n",
    "\n",
    "print(\"Generated mean and covariance matrices:\")\n",
    "for i in range(mu_mc.shape[0]):\n",
    "    print(\"N = %6d\" %N[i],\":\",\"%.3f\\t%.3f\" %(mu_mc[i][0], mu_mc[i][1]))\n",
    "    print(\"\\t%.3f\\t%.3f\" %(V_mc[i][0][0], V_mc[i][0][1]))\n",
    "    print(\"\\t%.3f\\t%.3f\" %(V_mc[i][1][0], V_mc[i][1][1]))\n",
    "\n"
   ]
  },
  {
   "cell_type": "code",
   "execution_count": 18,
   "metadata": {},
   "outputs": [
    {
     "name": "stdout",
     "output_type": "stream",
     "text": [
      "Estimated standard error for the mean.\n",
      "[[0.37540718 0.37229569]\n",
      " [0.09757978 0.09984204]\n",
      " [0.03187564 0.03124438]\n",
      " [0.00991571 0.01005611]\n",
      " [0.00316084 0.00316375]]\n",
      "Exact error for the mean.\n",
      "[[0.52501635 0.07645307]\n",
      " [0.06647208 0.01765385]\n",
      " [0.01623361 0.02319474]\n",
      " [0.01285033 0.0084881 ]\n",
      " [0.00352343 0.00186484]]\n"
     ]
    },
    {
     "data": {
      "image/png": "[encoded data removed]",
      "text/plain": [
       "<Figure size 432x288 with 1 Axes>"
      ]
     },
     "metadata": {},
     "output_type": "display_data"
    }
   ],
   "source": [
    "print(\"Estimated standard error for the mean.\")\n",
    "print(est_std_dev_mu_mc)\n",
    "print(\"Exact error for the mean.\")\n",
    "print(rms_mu)\n",
    "\n",
    "plt.loglog(N, est_std_dev_mu_mc.T[0], 'gx', label='standard_error mu_0')\n",
    "plt.loglog(N, rms_mu.T[0], 'g*', label='exact_error mu_0')\n",
    "plt.loglog(N, est_std_dev_mu_mc.T[1], 'rx', label='standard_error mu_1')\n",
    "plt.loglog(N, rms_mu.T[1], 'r*', label='exact_error mu_1')\n",
    "plt.legend(loc='best', fontsize=8)\n",
    "plt.ylabel('Error values')\n",
    "plt.xlabel('Number of samples (loglog)')\n",
    "plt.show()"
   ]
  },
  {
   "cell_type": "code",
   "execution_count": 19,
   "metadata": {},
   "outputs": [
    {
     "name": "stdout",
     "output_type": "stream",
     "text": [
      "Estimated standard error for the covariance matrix.\n"
     ]
    },
    {
     "data": {
      "image/png": "[encoded data removed]",
      "text/plain": [
       "<Figure size 432x288 with 1 Axes>"
      ]
     },
     "metadata": {},
     "output_type": "display_data"
    }
   ],
   "source": [
    "print(\"Estimated standard error for the covariance matrix.\")\n",
    "\n",
    "plt.loglog(N, est_std_dev_V_mc.T[0][0], 'gx', label='standard_error V_00')\n",
    "plt.loglog(N, est_std_dev_V_mc.T[0][1], 'rx', label='standard_error V_01')\n",
    "plt.loglog(N, est_std_dev_V_mc.T[1][0], 'bx', label='standard_error V_10')\n",
    "plt.loglog(N, est_std_dev_V_mc.T[1][1], 'yx', label='standard_error V_11')\n",
    "\n",
    "plt.loglog(N, rms_V.T[0][0], 'g*', label='exact_error V_00')\n",
    "plt.loglog(N, rms_V.T[0][1], 'r*', label='exact_error V_01')\n",
    "plt.loglog(N, rms_V.T[1][0], 'b*', label='exact_error V_10')\n",
    "plt.loglog(N, rms_V.T[1][1], 'y*', label='exact_error V_11')\n",
    "\n",
    "plt.legend(loc='best', fontsize=8)\n",
    "plt.ylabel('Error values')\n",
    "plt.xlabel('Number of samples (loglog)')\n",
    "plt.show()"
   ]
  },
  {
   "cell_type": "markdown",
   "metadata": {},
   "source": [
    "### _*Report 3.1:*_\n",
    "The bigger number of samples we have in order to generate the covariance matrix or mean vector, the more precise is the result. Also the standard error repeats the tendency of the exact error for both variance and mean."
   ]
  },
  {
   "cell_type": "markdown",
   "metadata": {},
   "source": [
    "### Please note, that Ass 3.2 and Ass 4.2 are in the separate files, since anaconda does not support chaospy package\n",
    "\n",
    "### Report Assignment 3.2 and Assignment 4.2\n",
    "The relative error is decreasing for the mean and variance at the value $y(10)$ for our oscillator, while we are increasing the number of samples $N$. At the same time we see that, for example, for $N=10$ Halton sequences give us a much better result than just standard Monte Carlo Sampling. The same observation can be made for $N=100$, but when we reach $N = 1000$, the accuracy for QMC and Standard MC sampling are almost the same."
   ]
  },
  {
   "cell_type": "markdown",
   "metadata": {},
   "source": [
    "# 4. Variance Reduction and QMC"
   ]
  },
  {
   "cell_type": "markdown",
   "metadata": {},
   "source": [
    "## Assignment 4.1 \n",
    "\n",
    "### Standard Monte Carlo Sampling\n",
    "We are having a function $f(x) = exp(x)$, The analytical integral for it is \n",
    "$$ \\int_{0}^{1}exp(x)dx = exp(1) - 1.$$\n",
    "The integral can be calcuated via standard Monte Carlo Sampling as:\n",
    "$$I_{MC} = \\frac{1}{N} \\sum_{i = 1}^{N} exp(u_i), \\quad u_i \\sim U(0, 1).$$\n",
    "\n",
    "### Control variates\n",
    "The standard formula for the estimate of the integral via control variates is:\n",
    "$$I_{cv}  = \\overline{f} - \\alpha \\cdot( E [h(x)] - \\overline{h}),$$\n",
    "where\n",
    "$$ \\overline{f} = \\frac{1}{N} \\sum_{i = 1}^{N} f(u_i), \\quad u_i \\sim U(0, 1)$$\n",
    "and\n",
    "$$ \\overline{h} = \\frac{1}{N} \\sum_{i = 1}^{N} h(u_i), \\quad u_i \\sim U(0, 1)$$\n",
    "and $h$ is an auxiliary function such that $E[h(x)]$ is known.\n",
    "In our case it is two fucntions -  $\\phi_1 (x) = x$ and $\\phi_2(x) = 1+ x$.\n",
    "\n",
    "Let us calculate the mean of these two functions.\n",
    "$$E [\\phi_1 (x)] = \\int_{0}^{1}x \\cdot 1 dx  = \\frac{x^{2}}{2}  \\biggl \\vert_{0}^{1} =0.5,$$\n",
    "$$E [\\phi_2 (x)] = \\int_{0}^{1}(x +1)\\cdot 1 dx  = \\frac{x^{2}}{2} + x  \\biggr \\vert_{0}^{1} =1.5.$$\n",
    "\n",
    "$$E [\\phi_1 (x) ^ 2] = \\int_{0}^{1}x ^ 2  dx  = \\frac{x^{3}}{3}  \\biggl \\vert_{0}^{1} =\\frac{1}{3},$$\n",
    "$$E [\\phi_2 (x) ^ 2] = \\int_{0}^{1}(x ^2 +2x + 1) dx  = \\frac{x^{3}}{3} + {x^{2}} + x  \\biggr \\vert_{0}^{1} =\\frac{7}{3},$$\n",
    "\n",
    "$$Var [\\phi_1 (x)] = E[\\phi_1 ^2] - E[\\phi_1]^2  = \\frac{1}{3} - \\frac{1}{4} = \\frac{1}{12}, $$\n",
    "$$Var [\\phi_2 (x)] = E[\\phi_2 ^2] - E[\\phi_2]^2  = \\frac{7}{3} - \\frac{9}{4} = \\frac{1}{12}.$$\n",
    "\n",
    "\n",
    "In the tutorial we have shown that the optimal solutionf for $alpha$ is\n",
    "$$\\alpha  =\\rho_{f,h} \\frac{\\sigma_f}{\\sigma_h}  =\\frac{cov(f(x), h(x))}{\\sigma_h^2}  = \\frac{cov(f(x), h(x))}{var[h(x)]}.$$\n",
    "\n",
    "The optimal $\\alpha$:\n",
    "$$cov(f(x), \\phi_1(x) ) =  cov(f(x), \\phi_2(x)) = E\\biggl[\\exp(x) - (exp(1) -1))(x - 0.5)\\biggr ] = $$\n",
    "\n",
    "$$ =  \\int_{0}^{1}\\biggl(\\exp(x)* x - 0.5* \\exp(x) - (exp(1) -1) * x +0.5 * (exp(1)-1)\\biggr) dx  = 0.140859, \\quad so $$\n",
    "$$ \\alpha = 0.140859 * 12 = 1.69.$$\n",
    "\n",
    "Note, that usually we cannot explicitly calculate the covariance of two functions, since $f$ could be such one that is not easy to integrate.\n",
    "\n",
    "\n",
    "But in our implementation we assume that $\\alpha =1$ for simplicity.\n",
    "### Importance samping\n",
    "\n",
    "Let $g(x) = Beta_{pdf}(a, b, x)$ is a function that is cheap and easy to integrate.\n",
    "We evaluate our function $f$ via Monte Carlo sampling in the following way:\n",
    "\n",
    "$$\\mu = E_p[f(x)] =\\int_{D}f(x)p(x)dx \\overset{U_{pfd}}{=} \\int_{0}^{1} f(x)dx.$$\n",
    "\n",
    "So $p(x)$ is $0$ at every $x$ not from $D$.\n",
    "\n",
    "$$\\mu = E_p[f(x)] =\\int_{D}\\frac{f(x)}{g(x)} g(x) p(x)dx =  E_g\\biggl [\\frac{f(x) \\cdot p(x)}{g(x)}\\biggr ].$$\n",
    "So our estimate will be:\n",
    "$$\\hat{\\mu}  = \\frac{1}{N} \\sum_{i = 1}^{N} \\frac{f(x_i)\\cdot p(x_i)}{g(x_i)}, \\quad x_i \\sim g(x).$$\n",
    "Considering the fact that $p(x)$ is the pdf of the Uniform distribution on the interval $[0, 1]$, i. e  $p(x) =  1 \\quad \\forall x\\in [0, 1]$ we obtain:\n",
    "\n",
    "$$\\hat{\\mu}  = \\frac{1}{N} \\sum_{i = 1}^{N} \\frac{f(x_i)}{g(x_i)}, \\quad x_i \\sim g(x) \\iff$$\n",
    "$$\\iff I_{is} = \\frac{1}{N} \\sum_{i = 1}^{N} \\frac{exp(x_i)}{Beta_{pdf}(a,b,x_i)}, \\quad x_i \\sim g(x) \\iff $$\n",
    "$$I_{is} = \\frac{1}{N} \\sum_{i = 1}^{N} h(x_i), \\quad x_i \\sim Beta(a, b) $$ according to our notations in the code.\n"
   ]
  },
  {
   "cell_type": "code",
   "execution_count": 20,
   "metadata": {},
   "outputs": [
    {
     "name": "stdout",
     "output_type": "stream",
     "text": [
      "Integral: 1.718281828459045\n",
      "MC [1.57725636 1.70136211 1.73316553 1.71969824]\n",
      "CV x [1.70930374 1.71026871 1.72594996 1.71919346]\n",
      "CV x + 1 [1.59710394 1.67513435 1.73998731 1.71511886]\n",
      "IS a = 5, b = 1 [2.05521517 1.42037559 1.34368376 1.57713671]\n",
      "IS a = 0.5, b= 0.5 [1.93228945 1.65366196 1.74171348 1.72228051]\n"
     ]
    },
    {
     "data": {
      "image/png": "[encoded data removed]",
      "text/plain": [
       "<Figure size 432x288 with 1 Axes>"
      ]
     },
     "metadata": {},
     "output_type": "display_data"
    }
   ],
   "source": [
    "import numpy as np\n",
    "import matplotlib.pyplot as plt\n",
    "from scipy.stats import beta\n",
    "\n",
    "\n",
    "a, b = 0, 1\n",
    "func = lambda x: np.exp(x)\n",
    "phi1 = lambda x: x\n",
    "phi2 = lambda x: x + 1\n",
    "# ration between f and beta_pdf function\n",
    "h_beta1 = lambda x: func(x)/beta.pdf(x, 5,1)\n",
    "h_beta2 = lambda x: func(x)/beta.pdf(x, 0.5, 0.5)\n",
    "\n",
    "# declare vector with number of samples\n",
    "N = [10, 100, 1000, 10000]#, 100000, 1000000]\n",
    "\n",
    "I_hat = np.zeros(len(N))\n",
    "I_ref = np.exp(b) - np.exp(a) # TODO: Put the exact integral result here\n",
    "\n",
    "I_MC, I_cv1, I_cv2, I_is1, I_is2 =np.zeros(len(N)),np.zeros(len(N)),np.zeros(len(N)),np.zeros(len(N)),np.zeros(len(N))\n",
    "mu_phi1 = 0.5 #theoretical mean of the function phi1 on [0,1]\n",
    "mu_phi2  =1.5 # theoretical mean of the function phi2 on the [0, 1]\n",
    "var_phi = 1/12 # theoretical variance is the same for both funcs (phi1 and phi2\n",
    "\n",
    "phi1_mean, phi2_mean = np.zeros(len(N)), np.zeros(len(N)) #empirical means based on generated points\n",
    "\n",
    "for i, n in enumerate(N):\n",
    "\n",
    "    points = np.random.uniform(a, b, n)\n",
    "    #standard Monte-Carlo\n",
    "    I_MC[i] = (np.mean(func(points)) * (b - a))\n",
    "    #control variates\n",
    "\n",
    "    # points shouldn't necesseraly coincide with the one that were generated and used for f\n",
    "    samples1 = np.random.uniform(a, b, n)\n",
    "    samples2 =np.random.uniform(a, b, n)\n",
    "    phi1_mean[i] =(np.mean(phi1(samples1)) * (b - a)) # (b -a) = 1 here\n",
    "    phi2_mean[i] =(np.mean(phi2(samples2)) * (b - a))\n",
    "\n",
    "    #importance sampling\n",
    "    points_beta_1 = np.random.beta(5,1, n)\n",
    "    points_beta_2 = np.random.beta(0.5, 0.5, n)\n",
    "    I_is1[i]= np.mean(h_beta1(points_beta_1))* (b - a) #  out p here is unifrom pdf on [0, 1] so it is 1\n",
    "    I_is2[i] = np.mean(h_beta2(points_beta_2)) * (b - a)\n",
    "\n",
    "# we put alpha is equal to 1\n",
    "I_cv1 = I_MC + mu_phi1 - phi1_mean\n",
    "I_cv2 = I_MC + mu_phi2 - phi2_mean\n",
    "\n",
    "\n",
    "rel_err_MC = np.abs(1 - I_MC/I_ref)\n",
    "rel_err_cv1 = np.abs(1 - I_cv1/I_ref)\n",
    "rel_err_cv2 = np.abs(1 - I_cv2/I_ref)\n",
    "rel_err_is1 = np.abs(1 - I_is1/I_ref)\n",
    "rel_err_is2 = np.abs(1 - I_is2/I_ref)\n",
    "\n",
    "plt.figure(\"Comparison of methods\")\n",
    "plt.loglog(N, rel_err_MC, 'r-', label='MC')\n",
    "plt.loglog(N, rel_err_cv1, 'b-', label='CV x')\n",
    "plt.loglog(N, rel_err_cv2, 'm-', label='CV x + 1')\n",
    "plt.loglog(N, rel_err_is1, 'c-', label='IS a = 5, b = 1')\n",
    "plt.loglog(N, rel_err_is2, 'g-', label='IS a = 0.5, b= 0.5')\n",
    "\n",
    "plt.legend(loc='best', fontsize=8)\n",
    "plt.ylabel('Relative error')\n",
    "plt.xlabel('Number of samples (loglog)')\n",
    "\n",
    "# TODO: plot results\n",
    "\n",
    "print(\"Integral:\",I_ref)\n",
    "print('MC', I_MC)\n",
    "print('CV x',I_cv1 )\n",
    "print('CV x + 1', I_cv2)\n",
    "print('IS a = 5, b = 1', I_is1)\n",
    "print('IS a = 0.5, b= 0.5', I_is2)\n",
    "\n",
    "plt.show()"
   ]
  },
  {
   "cell_type": "markdown",
   "metadata": {},
   "source": [
    "### Please note, that Ass 3.2 and Ass 4.2 are in the separate files, since anaconda does not support chaospy package\n",
    "\n",
    "### Report Assignment 3.2 and Assignment 4.2\n",
    "The relative error is decreasing for the mean and variance at the value $y(10)$ for our oscillator, while we are increasing the number of samples $N$. At the same time we see that, for example, for $N=10$ Halton sequences give us a much better result than just standard Monte Carlo Sampling. The same observation can be made for $N=100$, but when we reach $N = 1000$, the accuracy for QMC and Standard MC sampling are almost the same."
   ]
  }
 ],
 "metadata": {
  "kernelspec": {
   "display_name": "Python 3",
   "language": "python",
   "name": "python3"
  },
  "language_info": {
   "codemirror_mode": {
    "name": "ipython",
    "version": 3
   },
   "file_extension": ".py",
   "mimetype": "text/x-python",
   "name": "python",
   "nbconvert_exporter": "python",
   "pygments_lexer": "ipython3",
   "version": "3.6.5"
  }
 },
 "nbformat": 4,
 "nbformat_minor": 2
}
